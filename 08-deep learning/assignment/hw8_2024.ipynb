{
 "cells": [
  {
   "cell_type": "markdown",
   "id": "ca18b727-03ef-4292-9883-2f24942ffe76",
   "metadata": {},
   "source": [
    "## Homework\n",
    "\n",
    "> **Note**: it's very likely that in this homework your answers won't match \n",
    "> the options exactly. That's okay and expected. Select the option that's\n",
    "> closest to your solution.\n",
    "\n",
    "### Dataset\n",
    "\n",
    "In this homework, we'll build a model for classifying various hair types. \n",
    "For this, we will use the Hair Type dataset that was obtained from \n",
    "[Kaggle](https://www.kaggle.com/datasets/kavyasreeb/hair-type-dataset) \n",
    "and slightly rebuilt. \n"
   ]
  },
  {
   "cell_type": "code",
   "execution_count": 38,
   "id": "d3d8273d-08bb-41e5-9a7d-31110f5f49f7",
   "metadata": {
    "execution": {
     "iopub.execute_input": "2024-12-05T04:20:53.660042Z",
     "iopub.status.busy": "2024-12-05T04:20:53.659698Z",
     "iopub.status.idle": "2024-12-05T04:20:53.663137Z",
     "shell.execute_reply": "2024-12-05T04:20:53.662476Z",
     "shell.execute_reply.started": "2024-12-05T04:20:53.660020Z"
    }
   },
   "outputs": [],
   "source": [
    "# !wget https://github.com/SVizor42/ML_Zoomcamp/releases/download/straight-curly-data/data.zip\n",
    "# !unzip data.zip"
   ]
  },
  {
   "cell_type": "markdown",
   "id": "37b9929e-18c8-4f66-a2a7-7beedffffa5b",
   "metadata": {},
   "source": [
    "### Reproducibility\n",
    "\n",
    "Reproducibility in deep learning is a multifaceted challenge that requires attention \n",
    "to both software and hardware details. In some cases, we can't guarantee exactly \n",
    "the same results during the same experiment runs. Therefore, in this homework we suggest to:\n",
    "* install tensorflow version 2.17.1\n",
    "* set the seed generators by:"
   ]
  },
  {
   "cell_type": "code",
   "execution_count": 39,
   "id": "7a59d7f1-3e7f-47bb-a0be-6ba7ff297ecb",
   "metadata": {
    "execution": {
     "iopub.execute_input": "2024-12-05T04:20:53.664798Z",
     "iopub.status.busy": "2024-12-05T04:20:53.664507Z",
     "iopub.status.idle": "2024-12-05T04:20:53.671359Z",
     "shell.execute_reply": "2024-12-05T04:20:53.670676Z",
     "shell.execute_reply.started": "2024-12-05T04:20:53.664773Z"
    },
    "tags": []
   },
   "outputs": [],
   "source": [
    "import numpy as np\n",
    "import tensorflow as tf\n",
    "\n",
    "SEED = 42\n",
    "np.random.seed(SEED)\n",
    "tf.random.set_seed(SEED)"
   ]
  },
  {
   "cell_type": "markdown",
   "id": "a127ef0f-4fb9-48fd-94eb-e1817d96c9e2",
   "metadata": {},
   "source": [
    "For this will use Convolutional Neural Network (CNN). Like in the lectures, we'll use Keras.\n",
    "\n",
    "You need to develop the model with following structure:\n",
    "\n",
    "* The shape for input should be `(200, 200, 3)`\n",
    "* Next, create a convolutional layer ([`Conv2D`](https://keras.io/api/layers/convolution_layers/convolution2d/)):\n",
    "    * Use 32 filters\n",
    "    * Kernel size should be `(3, 3)` (that's the size of the filter)\n",
    "    * Use `'relu'` as activation \n",
    "* Reduce the size of the feature map with max pooling ([`MaxPooling2D`](https://keras.io/api/layers/pooling_layers/max_pooling2d/))\n",
    "    * Set the pooling size to `(2, 2)`\n",
    "* Turn the multi-dimensional result into vectors using a [`Flatten`](https://keras.io/api/layers/reshaping_layers/flatten/) layer\n",
    "* Next, add a `Dense` layer with 64 neurons and `'relu'` activation\n",
    "* Finally, create the `Dense` layer with 1 neuron - this will be the output\n",
    "    * The output layer should have an activation - use the appropriate activation for the binary classification case\n",
    "\n",
    "As optimizer use [`SGD`](https://keras.io/api/optimizers/sgd/) with the following parameters:\n",
    "\n",
    "* `SGD(lr=0.002, momentum=0.8)`\n",
    "\n",
    "For clarification about kernel size and max pooling, check [Office Hours](https://www.youtube.com/watch?v=1WRgdBTUaAc).\n"
   ]
  },
  {
   "cell_type": "markdown",
   "id": "8ddd6931-7ed4-41a8-89c9-9a0ce30769d7",
   "metadata": {},
   "source": [
    "### Question 1\n",
    "\n",
    "Since we have a binary classification problem, what is the best loss function for us?\n",
    "\n",
    "* `mean squared error`\n",
    "* `binary crossentropy`\n",
    "* `categorical crossentropy`\n",
    "* `cosine similarity`\n",
    "\n",
    "> **Note:** since we specify an activation for the output layer, we don't need to set `from_logits=True`\n"
   ]
  },
  {
   "cell_type": "markdown",
   "id": "ac32dbc5-0e59-46e0-88ae-05fad2949598",
   "metadata": {},
   "source": [
    "binary crossentropy"
   ]
  },
  {
   "cell_type": "code",
   "execution_count": 40,
   "id": "44614ae6-0e35-4b8e-8267-2b5486613837",
   "metadata": {
    "execution": {
     "iopub.execute_input": "2024-12-05T04:20:53.673807Z",
     "iopub.status.busy": "2024-12-05T04:20:53.673475Z",
     "iopub.status.idle": "2024-12-05T04:20:53.676499Z",
     "shell.execute_reply": "2024-12-05T04:20:53.675938Z",
     "shell.execute_reply.started": "2024-12-05T04:20:53.673785Z"
    }
   },
   "outputs": [],
   "source": [
    "from tensorflow import keras"
   ]
  },
  {
   "cell_type": "code",
   "execution_count": 41,
   "id": "c32c704f-ceac-4ba8-a5ff-9ddc0bbccd9c",
   "metadata": {
    "execution": {
     "iopub.execute_input": "2024-12-05T04:20:53.677877Z",
     "iopub.status.busy": "2024-12-05T04:20:53.677645Z",
     "iopub.status.idle": "2024-12-05T04:20:53.713370Z",
     "shell.execute_reply": "2024-12-05T04:20:53.712815Z",
     "shell.execute_reply.started": "2024-12-05T04:20:53.677861Z"
    }
   },
   "outputs": [],
   "source": [
    "inputs = keras.Input(shape = (200, 200, 3))\n",
    "x = keras.layers.Conv2D(32, kernel_size = (3, 3), activation = \"relu\")(inputs)\n",
    "x = keras.layers.MaxPooling2D(pool_size = (2, 2))(x)\n",
    "x = keras.layers.Flatten()(x)\n",
    "x = keras.layers.Dense(64, activation = \"relu\")(x)\n",
    "outputs = keras.layers.Dense(1, activation = \"sigmoid\")(x)\n",
    "model = keras.models.Model(inputs, outputs)"
   ]
  },
  {
   "cell_type": "code",
   "execution_count": 42,
   "id": "167333f3-c95c-48ab-9e09-e0f6586b6ed7",
   "metadata": {
    "execution": {
     "iopub.execute_input": "2024-12-05T04:20:53.714224Z",
     "iopub.status.busy": "2024-12-05T04:20:53.713972Z",
     "iopub.status.idle": "2024-12-05T04:20:53.734273Z",
     "shell.execute_reply": "2024-12-05T04:20:53.733748Z",
     "shell.execute_reply.started": "2024-12-05T04:20:53.714206Z"
    }
   },
   "outputs": [
    {
     "data": {
      "text/html": [
       "<pre style=\"white-space:pre;overflow-x:auto;line-height:normal;font-family:Menlo,'DejaVu Sans Mono',consolas,'Courier New',monospace\"><span style=\"font-weight: bold\">Model: \"functional_2\"</span>\n",
       "</pre>\n"
      ],
      "text/plain": [
       "\u001b[1mModel: \"functional_2\"\u001b[0m\n"
      ]
     },
     "metadata": {},
     "output_type": "display_data"
    },
    {
     "data": {
      "text/html": [
       "<pre style=\"white-space:pre;overflow-x:auto;line-height:normal;font-family:Menlo,'DejaVu Sans Mono',consolas,'Courier New',monospace\">┏━━━━━━━━━━━━━━━━━━━━━━━━━━━━━━━━━┳━━━━━━━━━━━━━━━━━━━━━━━━┳━━━━━━━━━━━━━━━┓\n",
       "┃<span style=\"font-weight: bold\"> Layer (type)                    </span>┃<span style=\"font-weight: bold\"> Output Shape           </span>┃<span style=\"font-weight: bold\">       Param # </span>┃\n",
       "┡━━━━━━━━━━━━━━━━━━━━━━━━━━━━━━━━━╇━━━━━━━━━━━━━━━━━━━━━━━━╇━━━━━━━━━━━━━━━┩\n",
       "│ input_layer_2 (<span style=\"color: #0087ff; text-decoration-color: #0087ff\">InputLayer</span>)      │ (<span style=\"color: #00d7ff; text-decoration-color: #00d7ff\">None</span>, <span style=\"color: #00af00; text-decoration-color: #00af00\">200</span>, <span style=\"color: #00af00; text-decoration-color: #00af00\">200</span>, <span style=\"color: #00af00; text-decoration-color: #00af00\">3</span>)    │             <span style=\"color: #00af00; text-decoration-color: #00af00\">0</span> │\n",
       "├─────────────────────────────────┼────────────────────────┼───────────────┤\n",
       "│ conv2d_2 (<span style=\"color: #0087ff; text-decoration-color: #0087ff\">Conv2D</span>)               │ (<span style=\"color: #00d7ff; text-decoration-color: #00d7ff\">None</span>, <span style=\"color: #00af00; text-decoration-color: #00af00\">198</span>, <span style=\"color: #00af00; text-decoration-color: #00af00\">198</span>, <span style=\"color: #00af00; text-decoration-color: #00af00\">32</span>)   │           <span style=\"color: #00af00; text-decoration-color: #00af00\">896</span> │\n",
       "├─────────────────────────────────┼────────────────────────┼───────────────┤\n",
       "│ max_pooling2d_2 (<span style=\"color: #0087ff; text-decoration-color: #0087ff\">MaxPooling2D</span>)  │ (<span style=\"color: #00d7ff; text-decoration-color: #00d7ff\">None</span>, <span style=\"color: #00af00; text-decoration-color: #00af00\">99</span>, <span style=\"color: #00af00; text-decoration-color: #00af00\">99</span>, <span style=\"color: #00af00; text-decoration-color: #00af00\">32</span>)     │             <span style=\"color: #00af00; text-decoration-color: #00af00\">0</span> │\n",
       "├─────────────────────────────────┼────────────────────────┼───────────────┤\n",
       "│ flatten_2 (<span style=\"color: #0087ff; text-decoration-color: #0087ff\">Flatten</span>)             │ (<span style=\"color: #00d7ff; text-decoration-color: #00d7ff\">None</span>, <span style=\"color: #00af00; text-decoration-color: #00af00\">313632</span>)         │             <span style=\"color: #00af00; text-decoration-color: #00af00\">0</span> │\n",
       "├─────────────────────────────────┼────────────────────────┼───────────────┤\n",
       "│ dense_4 (<span style=\"color: #0087ff; text-decoration-color: #0087ff\">Dense</span>)                 │ (<span style=\"color: #00d7ff; text-decoration-color: #00d7ff\">None</span>, <span style=\"color: #00af00; text-decoration-color: #00af00\">64</span>)             │    <span style=\"color: #00af00; text-decoration-color: #00af00\">20,072,512</span> │\n",
       "├─────────────────────────────────┼────────────────────────┼───────────────┤\n",
       "│ dense_5 (<span style=\"color: #0087ff; text-decoration-color: #0087ff\">Dense</span>)                 │ (<span style=\"color: #00d7ff; text-decoration-color: #00d7ff\">None</span>, <span style=\"color: #00af00; text-decoration-color: #00af00\">1</span>)              │            <span style=\"color: #00af00; text-decoration-color: #00af00\">65</span> │\n",
       "└─────────────────────────────────┴────────────────────────┴───────────────┘\n",
       "</pre>\n"
      ],
      "text/plain": [
       "┏━━━━━━━━━━━━━━━━━━━━━━━━━━━━━━━━━┳━━━━━━━━━━━━━━━━━━━━━━━━┳━━━━━━━━━━━━━━━┓\n",
       "┃\u001b[1m \u001b[0m\u001b[1mLayer (type)                   \u001b[0m\u001b[1m \u001b[0m┃\u001b[1m \u001b[0m\u001b[1mOutput Shape          \u001b[0m\u001b[1m \u001b[0m┃\u001b[1m \u001b[0m\u001b[1m      Param #\u001b[0m\u001b[1m \u001b[0m┃\n",
       "┡━━━━━━━━━━━━━━━━━━━━━━━━━━━━━━━━━╇━━━━━━━━━━━━━━━━━━━━━━━━╇━━━━━━━━━━━━━━━┩\n",
       "│ input_layer_2 (\u001b[38;5;33mInputLayer\u001b[0m)      │ (\u001b[38;5;45mNone\u001b[0m, \u001b[38;5;34m200\u001b[0m, \u001b[38;5;34m200\u001b[0m, \u001b[38;5;34m3\u001b[0m)    │             \u001b[38;5;34m0\u001b[0m │\n",
       "├─────────────────────────────────┼────────────────────────┼───────────────┤\n",
       "│ conv2d_2 (\u001b[38;5;33mConv2D\u001b[0m)               │ (\u001b[38;5;45mNone\u001b[0m, \u001b[38;5;34m198\u001b[0m, \u001b[38;5;34m198\u001b[0m, \u001b[38;5;34m32\u001b[0m)   │           \u001b[38;5;34m896\u001b[0m │\n",
       "├─────────────────────────────────┼────────────────────────┼───────────────┤\n",
       "│ max_pooling2d_2 (\u001b[38;5;33mMaxPooling2D\u001b[0m)  │ (\u001b[38;5;45mNone\u001b[0m, \u001b[38;5;34m99\u001b[0m, \u001b[38;5;34m99\u001b[0m, \u001b[38;5;34m32\u001b[0m)     │             \u001b[38;5;34m0\u001b[0m │\n",
       "├─────────────────────────────────┼────────────────────────┼───────────────┤\n",
       "│ flatten_2 (\u001b[38;5;33mFlatten\u001b[0m)             │ (\u001b[38;5;45mNone\u001b[0m, \u001b[38;5;34m313632\u001b[0m)         │             \u001b[38;5;34m0\u001b[0m │\n",
       "├─────────────────────────────────┼────────────────────────┼───────────────┤\n",
       "│ dense_4 (\u001b[38;5;33mDense\u001b[0m)                 │ (\u001b[38;5;45mNone\u001b[0m, \u001b[38;5;34m64\u001b[0m)             │    \u001b[38;5;34m20,072,512\u001b[0m │\n",
       "├─────────────────────────────────┼────────────────────────┼───────────────┤\n",
       "│ dense_5 (\u001b[38;5;33mDense\u001b[0m)                 │ (\u001b[38;5;45mNone\u001b[0m, \u001b[38;5;34m1\u001b[0m)              │            \u001b[38;5;34m65\u001b[0m │\n",
       "└─────────────────────────────────┴────────────────────────┴───────────────┘\n"
      ]
     },
     "metadata": {},
     "output_type": "display_data"
    },
    {
     "data": {
      "text/html": [
       "<pre style=\"white-space:pre;overflow-x:auto;line-height:normal;font-family:Menlo,'DejaVu Sans Mono',consolas,'Courier New',monospace\"><span style=\"font-weight: bold\"> Total params: </span><span style=\"color: #00af00; text-decoration-color: #00af00\">20,073,473</span> (76.57 MB)\n",
       "</pre>\n"
      ],
      "text/plain": [
       "\u001b[1m Total params: \u001b[0m\u001b[38;5;34m20,073,473\u001b[0m (76.57 MB)\n"
      ]
     },
     "metadata": {},
     "output_type": "display_data"
    },
    {
     "data": {
      "text/html": [
       "<pre style=\"white-space:pre;overflow-x:auto;line-height:normal;font-family:Menlo,'DejaVu Sans Mono',consolas,'Courier New',monospace\"><span style=\"font-weight: bold\"> Trainable params: </span><span style=\"color: #00af00; text-decoration-color: #00af00\">20,073,473</span> (76.57 MB)\n",
       "</pre>\n"
      ],
      "text/plain": [
       "\u001b[1m Trainable params: \u001b[0m\u001b[38;5;34m20,073,473\u001b[0m (76.57 MB)\n"
      ]
     },
     "metadata": {},
     "output_type": "display_data"
    },
    {
     "data": {
      "text/html": [
       "<pre style=\"white-space:pre;overflow-x:auto;line-height:normal;font-family:Menlo,'DejaVu Sans Mono',consolas,'Courier New',monospace\"><span style=\"font-weight: bold\"> Non-trainable params: </span><span style=\"color: #00af00; text-decoration-color: #00af00\">0</span> (0.00 B)\n",
       "</pre>\n"
      ],
      "text/plain": [
       "\u001b[1m Non-trainable params: \u001b[0m\u001b[38;5;34m0\u001b[0m (0.00 B)\n"
      ]
     },
     "metadata": {},
     "output_type": "display_data"
    }
   ],
   "source": [
    "optimizer = keras.optimizers.SGD(learning_rate = 0.002, momentum = 0.8)\n",
    "model.compile(optimizer = optimizer, loss = \"binary_crossentropy\", metrics = [\"accuracy\"])\n",
    "model.summary()"
   ]
  },
  {
   "cell_type": "markdown",
   "id": "f213e4a2-9377-4055-b104-949da6b9245e",
   "metadata": {},
   "source": [
    "### Question 2\n",
    "\n",
    "What's the total number of parameters of the model? You can use the `summary` method for that. \n",
    "\n",
    "* 896 \n",
    "* 11214912\n",
    "* 15896912\n",
    "* 20072512"
   ]
  },
  {
   "cell_type": "code",
   "execution_count": 43,
   "id": "167fbfd6-f2c9-48a0-8319-301b2571d899",
   "metadata": {
    "execution": {
     "iopub.execute_input": "2024-12-05T04:20:53.735168Z",
     "iopub.status.busy": "2024-12-05T04:20:53.734863Z",
     "iopub.status.idle": "2024-12-05T04:20:53.739910Z",
     "shell.execute_reply": "2024-12-05T04:20:53.739386Z",
     "shell.execute_reply.started": "2024-12-05T04:20:53.735149Z"
    }
   },
   "outputs": [
    {
     "data": {
      "text/plain": [
       "20073473"
      ]
     },
     "execution_count": 43,
     "metadata": {},
     "output_type": "execute_result"
    }
   ],
   "source": [
    "model.count_params()"
   ]
  },
  {
   "cell_type": "markdown",
   "id": "5448eaf1-1ce9-4ce1-9f79-dc52090d58bd",
   "metadata": {
    "execution": {
     "iopub.execute_input": "2024-12-03T21:23:36.059238Z",
     "iopub.status.busy": "2024-12-03T21:23:36.058340Z",
     "iopub.status.idle": "2024-12-03T21:23:36.063933Z",
     "shell.execute_reply": "2024-12-03T21:23:36.062895Z",
     "shell.execute_reply.started": "2024-12-03T21:23:36.059205Z"
    },
    "tags": []
   },
   "source": [
    "### Generators and Training\n",
    "\n",
    "For the next two questions, use the following data generator for both train and test sets:\n",
    "\n",
    "```python\n",
    "ImageDataGenerator(rescale=1./255)\n",
    "```\n",
    "\n",
    "* We don't need to do any additional pre-processing for the images.\n",
    "* When reading the data from train/test directories, check the `class_mode` parameter. Which value should it be for a binary classification problem?\n",
    "* Use `batch_size=20`\n",
    "* Use `shuffle=True` for both training and test sets. \n",
    "\n",
    "For training use `.fit()` with the following params:\n",
    "\n",
    "```python\n",
    "model.fit(\n",
    "    train_generator,\n",
    "    epochs=10,\n",
    "    validation_data=test_generator\n",
    ")\n",
    "```"
   ]
  },
  {
   "cell_type": "code",
   "execution_count": 44,
   "id": "1d7796d4-1f7e-43d6-a9f8-383ba159358f",
   "metadata": {
    "execution": {
     "iopub.execute_input": "2024-12-05T04:20:53.740720Z",
     "iopub.status.busy": "2024-12-05T04:20:53.740493Z",
     "iopub.status.idle": "2024-12-05T04:20:53.743640Z",
     "shell.execute_reply": "2024-12-05T04:20:53.743069Z",
     "shell.execute_reply.started": "2024-12-05T04:20:53.740703Z"
    }
   },
   "outputs": [],
   "source": [
    "from tensorflow.keras.preprocessing.image import ImageDataGenerator"
   ]
  },
  {
   "cell_type": "code",
   "execution_count": 45,
   "id": "8561813a-2d81-42ac-9d4e-b27ccfb50c87",
   "metadata": {
    "execution": {
     "iopub.execute_input": "2024-12-05T04:20:53.744691Z",
     "iopub.status.busy": "2024-12-05T04:20:53.744314Z",
     "iopub.status.idle": "2024-12-05T04:20:53.771212Z",
     "shell.execute_reply": "2024-12-05T04:20:53.770785Z",
     "shell.execute_reply.started": "2024-12-05T04:20:53.744659Z"
    }
   },
   "outputs": [
    {
     "name": "stdout",
     "output_type": "stream",
     "text": [
      "Found 800 images belonging to 2 classes.\n"
     ]
    }
   ],
   "source": [
    "train_data = ImageDataGenerator(rescale = 1./255)\n",
    "train_gen = train_data.flow_from_directory(\n",
    "    \"data/train\",\n",
    "    target_size = (200, 200),\n",
    "    class_mode = \"binary\",\n",
    "    batch_size = 20,\n",
    "    shuffle = True\n",
    ")"
   ]
  },
  {
   "cell_type": "code",
   "execution_count": 46,
   "id": "fb9cc959-ff98-4bfc-9ea2-7aa876f4185f",
   "metadata": {
    "execution": {
     "iopub.execute_input": "2024-12-05T04:20:53.771964Z",
     "iopub.status.busy": "2024-12-05T04:20:53.771755Z",
     "iopub.status.idle": "2024-12-05T04:20:53.783310Z",
     "shell.execute_reply": "2024-12-05T04:20:53.782801Z",
     "shell.execute_reply.started": "2024-12-05T04:20:53.771946Z"
    }
   },
   "outputs": [
    {
     "name": "stdout",
     "output_type": "stream",
     "text": [
      "Found 201 images belonging to 2 classes.\n"
     ]
    }
   ],
   "source": [
    "test_data = ImageDataGenerator(rescale=1./255)\n",
    "test_gen = test_data.flow_from_directory(\n",
    "    \"data/test\",\n",
    "    target_size = (200, 200),\n",
    "    class_mode = \"binary\",\n",
    "    batch_size = 20,\n",
    "    shuffle = True\n",
    ")"
   ]
  },
  {
   "cell_type": "code",
   "execution_count": 47,
   "id": "2be12352-1155-4eb2-a425-da0324ac54f5",
   "metadata": {
    "execution": {
     "iopub.execute_input": "2024-12-05T04:20:53.785757Z",
     "iopub.status.busy": "2024-12-05T04:20:53.785328Z",
     "iopub.status.idle": "2024-12-05T04:21:46.416564Z",
     "shell.execute_reply": "2024-12-05T04:21:46.415946Z",
     "shell.execute_reply.started": "2024-12-05T04:20:53.785738Z"
    }
   },
   "outputs": [
    {
     "name": "stderr",
     "output_type": "stream",
     "text": [
      "/opt/saturncloud/envs/saturn/lib/python3.12/site-packages/keras/src/trainers/data_adapters/py_dataset_adapter.py:121: UserWarning: Your `PyDataset` class should call `super().__init__(**kwargs)` in its constructor. `**kwargs` can include `workers`, `use_multiprocessing`, `max_queue_size`. Do not pass these arguments to `fit()`, as they will be ignored.\n",
      "  self._warn_if_super_not_called()\n"
     ]
    },
    {
     "name": "stdout",
     "output_type": "stream",
     "text": [
      "Epoch 1/10\n",
      "\u001b[1m40/40\u001b[0m \u001b[32m━━━━━━━━━━━━━━━━━━━━\u001b[0m\u001b[37m\u001b[0m \u001b[1m6s\u001b[0m 140ms/step - accuracy: 0.5951 - loss: 0.6817 - val_accuracy: 0.6318 - val_loss: 0.6339\n",
      "Epoch 2/10\n",
      "\u001b[1m40/40\u001b[0m \u001b[32m━━━━━━━━━━━━━━━━━━━━\u001b[0m\u001b[37m\u001b[0m \u001b[1m5s\u001b[0m 126ms/step - accuracy: 0.7018 - loss: 0.5876 - val_accuracy: 0.5771 - val_loss: 0.6533\n",
      "Epoch 3/10\n",
      "\u001b[1m40/40\u001b[0m \u001b[32m━━━━━━━━━━━━━━━━━━━━\u001b[0m\u001b[37m\u001b[0m \u001b[1m5s\u001b[0m 130ms/step - accuracy: 0.7044 - loss: 0.5611 - val_accuracy: 0.5721 - val_loss: 0.7094\n",
      "Epoch 4/10\n",
      "\u001b[1m40/40\u001b[0m \u001b[32m━━━━━━━━━━━━━━━━━━━━\u001b[0m\u001b[37m\u001b[0m \u001b[1m5s\u001b[0m 127ms/step - accuracy: 0.7184 - loss: 0.5444 - val_accuracy: 0.6368 - val_loss: 0.6132\n",
      "Epoch 5/10\n",
      "\u001b[1m40/40\u001b[0m \u001b[32m━━━━━━━━━━━━━━━━━━━━\u001b[0m\u001b[37m\u001b[0m \u001b[1m5s\u001b[0m 125ms/step - accuracy: 0.7323 - loss: 0.5093 - val_accuracy: 0.6866 - val_loss: 0.5847\n",
      "Epoch 6/10\n",
      "\u001b[1m40/40\u001b[0m \u001b[32m━━━━━━━━━━━━━━━━━━━━\u001b[0m\u001b[37m\u001b[0m \u001b[1m5s\u001b[0m 128ms/step - accuracy: 0.7463 - loss: 0.5053 - val_accuracy: 0.6617 - val_loss: 0.6253\n",
      "Epoch 7/10\n",
      "\u001b[1m40/40\u001b[0m \u001b[32m━━━━━━━━━━━━━━━━━━━━\u001b[0m\u001b[37m\u001b[0m \u001b[1m5s\u001b[0m 129ms/step - accuracy: 0.7648 - loss: 0.4746 - val_accuracy: 0.6816 - val_loss: 0.5782\n",
      "Epoch 8/10\n",
      "\u001b[1m40/40\u001b[0m \u001b[32m━━━━━━━━━━━━━━━━━━━━\u001b[0m\u001b[37m\u001b[0m \u001b[1m5s\u001b[0m 127ms/step - accuracy: 0.7738 - loss: 0.4615 - val_accuracy: 0.6567 - val_loss: 0.6107\n",
      "Epoch 9/10\n",
      "\u001b[1m40/40\u001b[0m \u001b[32m━━━━━━━━━━━━━━━━━━━━\u001b[0m\u001b[37m\u001b[0m \u001b[1m5s\u001b[0m 127ms/step - accuracy: 0.8245 - loss: 0.4309 - val_accuracy: 0.6866 - val_loss: 0.5770\n",
      "Epoch 10/10\n",
      "\u001b[1m40/40\u001b[0m \u001b[32m━━━━━━━━━━━━━━━━━━━━\u001b[0m\u001b[37m\u001b[0m \u001b[1m5s\u001b[0m 127ms/step - accuracy: 0.7748 - loss: 0.4835 - val_accuracy: 0.6716 - val_loss: 0.6387\n"
     ]
    }
   ],
   "source": [
    "history = model.fit(\n",
    "    train_gen,\n",
    "    epochs = 10,\n",
    "    validation_data = test_gen\n",
    ")"
   ]
  },
  {
   "cell_type": "markdown",
   "id": "0a1c20e0-6d0e-4181-b831-4bda0729185e",
   "metadata": {
    "execution": {
     "iopub.execute_input": "2024-12-05T04:02:25.959224Z",
     "iopub.status.busy": "2024-12-05T04:02:25.958450Z",
     "iopub.status.idle": "2024-12-05T04:02:25.965207Z",
     "shell.execute_reply": "2024-12-05T04:02:25.964458Z",
     "shell.execute_reply.started": "2024-12-05T04:02:25.959197Z"
    }
   },
   "source": [
    "### Question 3\n",
    "\n",
    "What is the median of training accuracy for all the epochs for this model?\n",
    "\n",
    "* 0.10\n",
    "* 0.32\n",
    "* 0.50\n",
    "* 0.72"
   ]
  },
  {
   "cell_type": "code",
   "execution_count": 48,
   "id": "022581d8-9150-4f4f-8a14-50cf47819dd4",
   "metadata": {
    "execution": {
     "iopub.execute_input": "2024-12-05T04:21:46.418572Z",
     "iopub.status.busy": "2024-12-05T04:21:46.418294Z",
     "iopub.status.idle": "2024-12-05T04:21:46.422339Z",
     "shell.execute_reply": "2024-12-05T04:21:46.421675Z",
     "shell.execute_reply.started": "2024-12-05T04:21:46.418552Z"
    }
   },
   "outputs": [],
   "source": [
    "import matplotlib.pyplot as plt\n",
    "%matplotlib inline"
   ]
  },
  {
   "cell_type": "code",
   "execution_count": 49,
   "id": "e5a3b331-ac71-45a6-a82c-c0628cb21502",
   "metadata": {
    "execution": {
     "iopub.execute_input": "2024-12-05T04:21:46.423285Z",
     "iopub.status.busy": "2024-12-05T04:21:46.423017Z",
     "iopub.status.idle": "2024-12-05T04:21:46.547166Z",
     "shell.execute_reply": "2024-12-05T04:21:46.546475Z",
     "shell.execute_reply.started": "2024-12-05T04:21:46.423267Z"
    }
   },
   "outputs": [
    {
     "data": {
      "text/plain": [
       "<matplotlib.legend.Legend at 0x7f46ef6c3890>"
      ]
     },
     "execution_count": 49,
     "metadata": {},
     "output_type": "execute_result"
    },
    {
     "data": {
      "image/png": "[encoded data removed]",
      "text/plain": [
       "<Figure size 640x480 with 1 Axes>"
      ]
     },
     "metadata": {},
     "output_type": "display_data"
    }
   ],
   "source": [
    "hist = history.history\n",
    "plt.plot(hist['val_accuracy'], label='val')\n",
    "plt.plot(hist['accuracy'], label='train')\n",
    "plt.legend()"
   ]
  },
  {
   "cell_type": "code",
   "execution_count": 50,
   "id": "1286d877-01f0-426c-a3f7-22e77346be37",
   "metadata": {
    "execution": {
     "iopub.execute_input": "2024-12-05T04:21:46.548263Z",
     "iopub.status.busy": "2024-12-05T04:21:46.547939Z",
     "iopub.status.idle": "2024-12-05T04:21:46.552390Z",
     "shell.execute_reply": "2024-12-05T04:21:46.551830Z",
     "shell.execute_reply.started": "2024-12-05T04:21:46.548233Z"
    }
   },
   "outputs": [
    {
     "data": {
      "text/plain": [
       "np.float64(0.75)"
      ]
     },
     "execution_count": 50,
     "metadata": {},
     "output_type": "execute_result"
    }
   ],
   "source": [
    "round(np.median(history.history[\"accuracy\"]), 2)"
   ]
  },
  {
   "cell_type": "markdown",
   "id": "dee92cf2-02b5-456e-905b-604dbd469c88",
   "metadata": {},
   "source": [
    "### Question 4\n",
    "\n",
    "What is the standard deviation of training loss for all the epochs for this model?\n",
    "\n",
    "* 0.028\n",
    "* 0.068\n",
    "* 0.128\n",
    "* 0.168"
   ]
  },
  {
   "cell_type": "code",
   "execution_count": 51,
   "id": "d39e9b95-182a-430b-a91e-d5c36e62f8e1",
   "metadata": {
    "execution": {
     "iopub.execute_input": "2024-12-05T04:21:46.554034Z",
     "iopub.status.busy": "2024-12-05T04:21:46.553798Z",
     "iopub.status.idle": "2024-12-05T04:21:46.558206Z",
     "shell.execute_reply": "2024-12-05T04:21:46.557698Z",
     "shell.execute_reply.started": "2024-12-05T04:21:46.554017Z"
    }
   },
   "outputs": [
    {
     "data": {
      "text/plain": [
       "np.float64(0.07)"
      ]
     },
     "execution_count": 51,
     "metadata": {},
     "output_type": "execute_result"
    }
   ],
   "source": [
    "round(np.std(history.history[\"loss\"]), 2)"
   ]
  },
  {
   "cell_type": "markdown",
   "id": "2ee53036-ab18-433b-bf36-314fab211560",
   "metadata": {},
   "source": [
    "### Data Augmentation\n",
    "\n",
    "For the next two questions, we'll generate more data using data augmentations. \n",
    "\n",
    "Add the following augmentations to your training data generator:\n",
    "\n",
    "* `rotation_range=50,`\n",
    "* `width_shift_range=0.1,`\n",
    "* `height_shift_range=0.1,`\n",
    "* `zoom_range=0.1,`\n",
    "* `horizontal_flip=True,`\n",
    "* `fill_mode='nearest'`"
   ]
  },
  {
   "cell_type": "code",
   "execution_count": 52,
   "id": "38fa3aa9-4d05-4309-9a6a-23e0fa417afd",
   "metadata": {
    "execution": {
     "iopub.execute_input": "2024-12-05T04:21:46.559100Z",
     "iopub.status.busy": "2024-12-05T04:21:46.558794Z",
     "iopub.status.idle": "2024-12-05T04:21:46.562276Z",
     "shell.execute_reply": "2024-12-05T04:21:46.561677Z",
     "shell.execute_reply.started": "2024-12-05T04:21:46.559082Z"
    }
   },
   "outputs": [],
   "source": [
    "augmented_train_datagen = ImageDataGenerator(\n",
    "    rescale = 1./255,\n",
    "    rotation_range = 50,\n",
    "    width_shift_range = 0.1,\n",
    "    height_shift_range = 0.1,\n",
    "    zoom_range = 0.1,\n",
    "    horizontal_flip = True,\n",
    "    fill_mode = \"nearest\"\n",
    ")"
   ]
  },
  {
   "cell_type": "code",
   "execution_count": 53,
   "id": "8d15d27e-3b0c-4b5f-bd20-0e4d4f3e4d9f",
   "metadata": {
    "execution": {
     "iopub.execute_input": "2024-12-05T04:21:46.563613Z",
     "iopub.status.busy": "2024-12-05T04:21:46.562857Z",
     "iopub.status.idle": "2024-12-05T04:21:46.586903Z",
     "shell.execute_reply": "2024-12-05T04:21:46.586448Z",
     "shell.execute_reply.started": "2024-12-05T04:21:46.563595Z"
    }
   },
   "outputs": [
    {
     "name": "stdout",
     "output_type": "stream",
     "text": [
      "Found 800 images belonging to 2 classes.\n"
     ]
    }
   ],
   "source": [
    "augmented_train_generator = augmented_train_datagen.flow_from_directory(\n",
    "    \"data/train\",\n",
    "    target_size = (200, 200),\n",
    "    batch_size = 20,\n",
    "    shuffle = True,\n",
    "    class_mode = \"binary\",\n",
    ")"
   ]
  },
  {
   "cell_type": "code",
   "execution_count": 54,
   "id": "ce55b177-943f-4bb7-8956-55690bf7ab23",
   "metadata": {
    "execution": {
     "iopub.execute_input": "2024-12-05T04:21:46.587634Z",
     "iopub.status.busy": "2024-12-05T04:21:46.587453Z",
     "iopub.status.idle": "2024-12-05T04:23:34.405402Z",
     "shell.execute_reply": "2024-12-05T04:23:34.404874Z",
     "shell.execute_reply.started": "2024-12-05T04:21:46.587618Z"
    }
   },
   "outputs": [
    {
     "name": "stdout",
     "output_type": "stream",
     "text": [
      "Epoch 1/10\n",
      "\u001b[1m40/40\u001b[0m \u001b[32m━━━━━━━━━━━━━━━━━━━━\u001b[0m\u001b[37m\u001b[0m \u001b[1m11s\u001b[0m 276ms/step - accuracy: 0.6820 - loss: 0.5843 - val_accuracy: 0.7313 - val_loss: 0.5454\n",
      "Epoch 2/10\n",
      "\u001b[1m40/40\u001b[0m \u001b[32m━━━━━━━━━━━━━━━━━━━━\u001b[0m\u001b[37m\u001b[0m \u001b[1m11s\u001b[0m 274ms/step - accuracy: 0.7081 - loss: 0.5598 - val_accuracy: 0.7512 - val_loss: 0.5426\n",
      "Epoch 3/10\n",
      "\u001b[1m40/40\u001b[0m \u001b[32m━━━━━━━━━━━━━━━━━━━━\u001b[0m\u001b[37m\u001b[0m \u001b[1m11s\u001b[0m 271ms/step - accuracy: 0.7140 - loss: 0.5739 - val_accuracy: 0.7214 - val_loss: 0.5355\n",
      "Epoch 4/10\n",
      "\u001b[1m40/40\u001b[0m \u001b[32m━━━━━━━━━━━━━━━━━━━━\u001b[0m\u001b[37m\u001b[0m \u001b[1m11s\u001b[0m 265ms/step - accuracy: 0.6926 - loss: 0.5785 - val_accuracy: 0.7264 - val_loss: 0.5418\n",
      "Epoch 5/10\n",
      "\u001b[1m40/40\u001b[0m \u001b[32m━━━━━━━━━━━━━━━━━━━━\u001b[0m\u001b[37m\u001b[0m \u001b[1m11s\u001b[0m 265ms/step - accuracy: 0.7004 - loss: 0.5608 - val_accuracy: 0.7363 - val_loss: 0.5431\n",
      "Epoch 6/10\n",
      "\u001b[1m40/40\u001b[0m \u001b[32m━━━━━━━━━━━━━━━━━━━━\u001b[0m\u001b[37m\u001b[0m \u001b[1m11s\u001b[0m 266ms/step - accuracy: 0.6800 - loss: 0.5690 - val_accuracy: 0.7313 - val_loss: 0.5372\n",
      "Epoch 7/10\n",
      "\u001b[1m40/40\u001b[0m \u001b[32m━━━━━━━━━━━━━━━━━━━━\u001b[0m\u001b[37m\u001b[0m \u001b[1m11s\u001b[0m 263ms/step - accuracy: 0.7198 - loss: 0.5561 - val_accuracy: 0.7264 - val_loss: 0.5627\n",
      "Epoch 8/10\n",
      "\u001b[1m40/40\u001b[0m \u001b[32m━━━━━━━━━━━━━━━━━━━━\u001b[0m\u001b[37m\u001b[0m \u001b[1m11s\u001b[0m 266ms/step - accuracy: 0.7256 - loss: 0.5245 - val_accuracy: 0.7512 - val_loss: 0.5445\n",
      "Epoch 9/10\n",
      "\u001b[1m40/40\u001b[0m \u001b[32m━━━━━━━━━━━━━━━━━━━━\u001b[0m\u001b[37m\u001b[0m \u001b[1m11s\u001b[0m 263ms/step - accuracy: 0.7067 - loss: 0.5744 - val_accuracy: 0.7164 - val_loss: 0.5550\n",
      "Epoch 10/10\n",
      "\u001b[1m40/40\u001b[0m \u001b[32m━━━━━━━━━━━━━━━━━━━━\u001b[0m\u001b[37m\u001b[0m \u001b[1m11s\u001b[0m 264ms/step - accuracy: 0.7534 - loss: 0.5177 - val_accuracy: 0.7413 - val_loss: 0.5255\n"
     ]
    }
   ],
   "source": [
    "history_aug = model.fit(\n",
    "    augmented_train_generator,\n",
    "    epochs = 10,\n",
    "    validation_data = test_generator\n",
    ")"
   ]
  },
  {
   "cell_type": "markdown",
   "id": "04e88e85-23d3-4817-88de-a5e0b3e82e74",
   "metadata": {},
   "source": [
    "### Question 5 \n",
    "\n",
    "Let's train our model for 10 more epochs using the same code as previously.\n",
    "> **Note:** make sure you don't re-create the model - we want to continue training the model\n",
    "we already started training.\n",
    "\n",
    "What is the mean of test loss for all the epochs for the model trained with augmentations?\n",
    "\n",
    "* 0.26\n",
    "* 0.56\n",
    "* 0.86\n",
    "* 1.16"
   ]
  },
  {
   "cell_type": "code",
   "execution_count": 55,
   "id": "657d2cc1-e362-46bf-8404-a76beb5b87c2",
   "metadata": {
    "execution": {
     "iopub.execute_input": "2024-12-05T04:23:34.406458Z",
     "iopub.status.busy": "2024-12-05T04:23:34.406196Z",
     "iopub.status.idle": "2024-12-05T04:23:34.410805Z",
     "shell.execute_reply": "2024-12-05T04:23:34.410286Z",
     "shell.execute_reply.started": "2024-12-05T04:23:34.406440Z"
    },
    "tags": []
   },
   "outputs": [
    {
     "data": {
      "text/plain": [
       "np.float64(0.54)"
      ]
     },
     "execution_count": 55,
     "metadata": {},
     "output_type": "execute_result"
    }
   ],
   "source": [
    "round(np.mean(history_aug.history[\"val_loss\"]), 2)"
   ]
  },
  {
   "cell_type": "code",
   "execution_count": 56,
   "id": "d1674d40-9b97-4541-81de-e2977f2a139a",
   "metadata": {
    "execution": {
     "iopub.execute_input": "2024-12-05T04:23:34.411712Z",
     "iopub.status.busy": "2024-12-05T04:23:34.411467Z",
     "iopub.status.idle": "2024-12-05T04:23:34.536063Z",
     "shell.execute_reply": "2024-12-05T04:23:34.535469Z",
     "shell.execute_reply.started": "2024-12-05T04:23:34.411693Z"
    }
   },
   "outputs": [
    {
     "data": {
      "text/plain": [
       "<matplotlib.legend.Legend at 0x7f46d80280e0>"
      ]
     },
     "execution_count": 56,
     "metadata": {},
     "output_type": "execute_result"
    },
    {
     "data": {
      "image/png": "[encoded data removed]",
      "text/plain": [
       "<Figure size 640x480 with 1 Axes>"
      ]
     },
     "metadata": {},
     "output_type": "display_data"
    }
   ],
   "source": [
    "hist_aug = history_aug.history\n",
    "plt.plot(hist_aug['val_loss'], label='val')\n",
    "plt.legend()"
   ]
  },
  {
   "cell_type": "markdown",
   "id": "80f27a73-3c65-49fa-a28c-c0f1448cbbef",
   "metadata": {},
   "source": [
    "### Question 6\n",
    "\n",
    "What's the average of test accuracy for the last 5 epochs (from 6 to 10)\n",
    "for the model trained with augmentations?\n",
    "\n",
    "* 0.31\n",
    "* 0.51\n",
    "* 0.71\n",
    "* 0.91"
   ]
  },
  {
   "cell_type": "code",
   "execution_count": 57,
   "id": "2df96a9f-b7d6-4bd5-90e0-0219d436c545",
   "metadata": {
    "execution": {
     "iopub.execute_input": "2024-12-05T04:23:34.537400Z",
     "iopub.status.busy": "2024-12-05T04:23:34.536818Z",
     "iopub.status.idle": "2024-12-05T04:23:34.660627Z",
     "shell.execute_reply": "2024-12-05T04:23:34.659977Z",
     "shell.execute_reply.started": "2024-12-05T04:23:34.537377Z"
    }
   },
   "outputs": [
    {
     "data": {
      "text/plain": [
       "<matplotlib.legend.Legend at 0x7f46ef64e450>"
      ]
     },
     "execution_count": 57,
     "metadata": {},
     "output_type": "execute_result"
    },
    {
     "data": {
      "image/png": "[encoded data removed]",
      "text/plain": [
       "<Figure size 640x480 with 1 Axes>"
      ]
     },
     "metadata": {},
     "output_type": "display_data"
    }
   ],
   "source": [
    "hist_aug = history_aug.history\n",
    "plt.plot(hist_aug['val_accuracy'], label='val')\n",
    "plt.legend()"
   ]
  },
  {
   "cell_type": "code",
   "execution_count": 58,
   "id": "5da9e818-beb2-4f4b-959c-b42480b90963",
   "metadata": {
    "execution": {
     "iopub.execute_input": "2024-12-05T04:23:34.661704Z",
     "iopub.status.busy": "2024-12-05T04:23:34.661356Z",
     "iopub.status.idle": "2024-12-05T04:23:34.666094Z",
     "shell.execute_reply": "2024-12-05T04:23:34.665597Z",
     "shell.execute_reply.started": "2024-12-05T04:23:34.661675Z"
    }
   },
   "outputs": [
    {
     "data": {
      "text/plain": [
       "np.float64(0.73)"
      ]
     },
     "execution_count": 58,
     "metadata": {},
     "output_type": "execute_result"
    }
   ],
   "source": [
    "round(np.mean(history_aug.history[\"val_accuracy\"][-5:]), 2)"
   ]
  }
 ],
 "metadata": {
  "kernelspec": {
   "display_name": "saturn (Python 3)",
   "language": "python",
   "name": "python3"
  },
  "language_info": {
   "codemirror_mode": {
    "name": "ipython",
    "version": 3
   },
   "file_extension": ".py",
   "mimetype": "text/x-python",
   "name": "python",
   "nbconvert_exporter": "python",
   "pygments_lexer": "ipython3",
   "version": "3.12.7"
  }
 },
 "nbformat": 4,
 "nbformat_minor": 5
}
