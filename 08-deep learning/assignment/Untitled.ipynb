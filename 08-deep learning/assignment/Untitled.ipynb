{
 "cells": [
  {
   "cell_type": "code",
   "execution_count": 1,
   "id": "7a59d7f1-3e7f-47bb-a0be-6ba7ff297ecb",
   "metadata": {
    "execution": {
     "iopub.execute_input": "2024-12-03T21:22:12.787461Z",
     "iopub.status.busy": "2024-12-03T21:22:12.787061Z",
     "iopub.status.idle": "2024-12-03T21:22:19.024169Z",
     "shell.execute_reply": "2024-12-03T21:22:19.023544Z",
     "shell.execute_reply.started": "2024-12-03T21:22:12.787433Z"
    },
    "tags": []
   },
   "outputs": [
    {
     "name": "stderr",
     "output_type": "stream",
     "text": [
      "2024-12-03 21:22:13.247977: I tensorflow/core/util/port.cc:110] oneDNN custom operations are on. You may see slightly different numerical results due to floating-point round-off errors from different computation orders. To turn them off, set the environment variable `TF_ENABLE_ONEDNN_OPTS=0`.\n",
      "2024-12-03 21:22:13.250427: I tensorflow/tsl/cuda/cudart_stub.cc:28] Could not find cuda drivers on your machine, GPU will not be used.\n",
      "2024-12-03 21:22:13.294438: I tensorflow/tsl/cuda/cudart_stub.cc:28] Could not find cuda drivers on your machine, GPU will not be used.\n",
      "2024-12-03 21:22:13.295200: I tensorflow/core/platform/cpu_feature_guard.cc:182] This TensorFlow binary is optimized to use available CPU instructions in performance-critical operations.\n",
      "To enable the following instructions: AVX2 AVX512F AVX512_VNNI FMA, in other operations, rebuild TensorFlow with the appropriate compiler flags.\n",
      "2024-12-03 21:22:15.945965: W tensorflow/compiler/tf2tensorrt/utils/py_utils.cc:38] TF-TRT Warning: Could not find TensorRT\n"
     ]
    }
   ],
   "source": [
    "import numpy as np\n",
    "import tensorflow as tf\n",
    "\n",
    "SEED = 42\n",
    "np.random.seed(SEED)\n",
    "tf.random.set_seed(SEED)"
   ]
  },
  {
   "cell_type": "markdown",
   "id": "5448eaf1-1ce9-4ce1-9f79-dc52090d58bd",
   "metadata": {
    "execution": {
     "iopub.execute_input": "2024-12-03T21:23:36.059238Z",
     "iopub.status.busy": "2024-12-03T21:23:36.058340Z",
     "iopub.status.idle": "2024-12-03T21:23:36.063933Z",
     "shell.execute_reply": "2024-12-03T21:23:36.062895Z",
     "shell.execute_reply.started": "2024-12-03T21:23:36.059205Z"
    },
    "tags": []
   },
   "source": [
    "### Data Preparation\n",
    "\n",
    "The dataset contains around 1000 images of hairs in the separate folders \n",
    "for training and test sets. "
   ]
  },
  {
   "cell_type": "code",
   "execution_count": 3,
   "id": "02da643d-0682-4391-af06-bf622bd6dc2e",
   "metadata": {
    "execution": {
     "iopub.execute_input": "2024-12-03T21:24:45.816762Z",
     "iopub.status.busy": "2024-12-03T21:24:45.816381Z",
     "iopub.status.idle": "2024-12-03T21:24:46.968657Z",
     "shell.execute_reply": "2024-12-03T21:24:46.967901Z",
     "shell.execute_reply.started": "2024-12-03T21:24:45.816733Z"
    },
    "tags": []
   },
   "outputs": [],
   "source": [
    "import numpy as np\n",
    "import matplotlib.pyplot as plt\n",
    "\n",
    "%matplotlib inline"
   ]
  },
  {
   "cell_type": "code",
   "execution_count": 4,
   "id": "81cdf907-70c1-4ea7-afc9-6434d236f641",
   "metadata": {
    "execution": {
     "iopub.execute_input": "2024-12-03T21:24:47.770742Z",
     "iopub.status.busy": "2024-12-03T21:24:47.769966Z",
     "iopub.status.idle": "2024-12-03T21:24:47.774447Z",
     "shell.execute_reply": "2024-12-03T21:24:47.773680Z",
     "shell.execute_reply.started": "2024-12-03T21:24:47.770711Z"
    },
    "tags": []
   },
   "outputs": [],
   "source": [
    "import tensorflow as tf\n",
    "from tensorflow import keras"
   ]
  },
  {
   "cell_type": "code",
   "execution_count": 5,
   "id": "0f8e3857-d45b-4697-9910-91e9000bd799",
   "metadata": {
    "execution": {
     "iopub.execute_input": "2024-12-03T21:24:53.990306Z",
     "iopub.status.busy": "2024-12-03T21:24:53.989906Z",
     "iopub.status.idle": "2024-12-03T21:24:54.031543Z",
     "shell.execute_reply": "2024-12-03T21:24:54.030838Z",
     "shell.execute_reply.started": "2024-12-03T21:24:53.990281Z"
    },
    "tags": []
   },
   "outputs": [],
   "source": [
    "from tensorflow.keras.preprocessing.image import load_img"
   ]
  }
 ],
 "metadata": {
  "kernelspec": {
   "display_name": "saturn (Python 3)",
   "language": "python",
   "name": "python3"
  },
  "language_info": {
   "codemirror_mode": {
    "name": "ipython",
    "version": 3
   },
   "file_extension": ".py",
   "mimetype": "text/x-python",
   "name": "python",
   "nbconvert_exporter": "python",
   "pygments_lexer": "ipython3",
   "version": "3.9.15"
  }
 },
 "nbformat": 4,
 "nbformat_minor": 5
}
