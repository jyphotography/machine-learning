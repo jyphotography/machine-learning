{
 "cells": [
  {
   "cell_type": "markdown",
   "metadata": {},
   "source": [
    "#"
   ]
  },
  {
   "cell_type": "markdown",
   "metadata": {},
   "source": [
    "# Problem Statement\n",
    "Since I move to New York and look for a house to buy. I want to use this Kaggle dataset to train a model to help me predict the house price.\n",
    "https://www.kaggle.com/datasets/nelgiriyewithana/new-york-housing-market"
   ]
  },
  {
   "cell_type": "markdown",
   "metadata": {},
   "source": [
    "# 1. EDA"
   ]
  },
  {
   "cell_type": "code",
   "execution_count": 84,
   "metadata": {},
   "outputs": [],
   "source": [
    "import pandas as pd\n",
    "import numpy as np\n",
    "\n",
    "import seaborn as sns\n",
    "from matplotlib import pyplot as plt\n",
    "%matplotlib inline"
   ]
  },
  {
   "cell_type": "markdown",
   "metadata": {},
   "source": [
    "## 1.1 Data Loading"
   ]
  },
  {
   "cell_type": "code",
   "execution_count": 85,
   "metadata": {},
   "outputs": [],
   "source": [
    "df = pd.read_csv('/workspaces/machine-learning/midterm/data/NY-House-Dataset.csv')"
   ]
  },
  {
   "cell_type": "code",
   "execution_count": 86,
   "metadata": {},
   "outputs": [
    {
     "data": {
      "text/html": [
       "<div>\n",
       "<style scoped>\n",
       "    .dataframe tbody tr th:only-of-type {\n",
       "        vertical-align: middle;\n",
       "    }\n",
       "\n",
       "    .dataframe tbody tr th {\n",
       "        vertical-align: top;\n",
       "    }\n",
       "\n",
       "    .dataframe thead th {\n",
       "        text-align: right;\n",
       "    }\n",
       "</style>\n",
       "<table border=\"1\" class=\"dataframe\">\n",
       "  <thead>\n",
       "    <tr style=\"text-align: right;\">\n",
       "      <th></th>\n",
       "      <th>BROKERTITLE</th>\n",
       "      <th>TYPE</th>\n",
       "      <th>PRICE</th>\n",
       "      <th>BEDS</th>\n",
       "      <th>BATH</th>\n",
       "      <th>PROPERTYSQFT</th>\n",
       "      <th>ADDRESS</th>\n",
       "      <th>STATE</th>\n",
       "      <th>MAIN_ADDRESS</th>\n",
       "      <th>ADMINISTRATIVE_AREA_LEVEL_2</th>\n",
       "      <th>LOCALITY</th>\n",
       "      <th>SUBLOCALITY</th>\n",
       "      <th>STREET_NAME</th>\n",
       "      <th>LONG_NAME</th>\n",
       "      <th>FORMATTED_ADDRESS</th>\n",
       "      <th>LATITUDE</th>\n",
       "      <th>LONGITUDE</th>\n",
       "    </tr>\n",
       "  </thead>\n",
       "  <tbody>\n",
       "    <tr>\n",
       "      <th>0</th>\n",
       "      <td>Brokered by Douglas Elliman  -111 Fifth Ave</td>\n",
       "      <td>Condo for sale</td>\n",
       "      <td>315000</td>\n",
       "      <td>2</td>\n",
       "      <td>2</td>\n",
       "      <td>1400</td>\n",
       "      <td>2 E 55th St Unit 803</td>\n",
       "      <td>New York, NY 10022</td>\n",
       "      <td>2 E 55th St Unit 803New York, NY 10022</td>\n",
       "      <td>New York County</td>\n",
       "      <td>New York</td>\n",
       "      <td>Manhattan</td>\n",
       "      <td>East 55th Street</td>\n",
       "      <td>Regis Residence</td>\n",
       "      <td>Regis Residence, 2 E 55th St #803, New York, N...</td>\n",
       "      <td>41</td>\n",
       "      <td>-74</td>\n",
       "    </tr>\n",
       "    <tr>\n",
       "      <th>1</th>\n",
       "      <td>Brokered by Serhant</td>\n",
       "      <td>Condo for sale</td>\n",
       "      <td>195000000</td>\n",
       "      <td>7</td>\n",
       "      <td>10</td>\n",
       "      <td>17545</td>\n",
       "      <td>Central Park Tower Penthouse-217 W 57th New Yo...</td>\n",
       "      <td>New York, NY 10019</td>\n",
       "      <td>Central Park Tower Penthouse-217 W 57th New Yo...</td>\n",
       "      <td>United States</td>\n",
       "      <td>New York</td>\n",
       "      <td>New York County</td>\n",
       "      <td>New York</td>\n",
       "      <td>West 57th Street</td>\n",
       "      <td>217 W 57th St, New York, NY 10019, USA</td>\n",
       "      <td>41</td>\n",
       "      <td>-74</td>\n",
       "    </tr>\n",
       "    <tr>\n",
       "      <th>2</th>\n",
       "      <td>Brokered by Sowae Corp</td>\n",
       "      <td>House for sale</td>\n",
       "      <td>260000</td>\n",
       "      <td>4</td>\n",
       "      <td>2</td>\n",
       "      <td>2015</td>\n",
       "      <td>620 Sinclair Ave</td>\n",
       "      <td>Staten Island, NY 10312</td>\n",
       "      <td>620 Sinclair AveStaten Island, NY 10312</td>\n",
       "      <td>United States</td>\n",
       "      <td>New York</td>\n",
       "      <td>Richmond County</td>\n",
       "      <td>Staten Island</td>\n",
       "      <td>Sinclair Avenue</td>\n",
       "      <td>620 Sinclair Ave, Staten Island, NY 10312, USA</td>\n",
       "      <td>41</td>\n",
       "      <td>-74</td>\n",
       "    </tr>\n",
       "    <tr>\n",
       "      <th>3</th>\n",
       "      <td>Brokered by COMPASS</td>\n",
       "      <td>Condo for sale</td>\n",
       "      <td>69000</td>\n",
       "      <td>3</td>\n",
       "      <td>1</td>\n",
       "      <td>445</td>\n",
       "      <td>2 E 55th St Unit 908W33</td>\n",
       "      <td>Manhattan, NY 10022</td>\n",
       "      <td>2 E 55th St Unit 908W33Manhattan, NY 10022</td>\n",
       "      <td>United States</td>\n",
       "      <td>New York</td>\n",
       "      <td>New York County</td>\n",
       "      <td>New York</td>\n",
       "      <td>East 55th Street</td>\n",
       "      <td>2 E 55th St, New York, NY 10022, USA</td>\n",
       "      <td>41</td>\n",
       "      <td>-74</td>\n",
       "    </tr>\n",
       "    <tr>\n",
       "      <th>4</th>\n",
       "      <td>Brokered by Sotheby's International Realty - E...</td>\n",
       "      <td>Townhouse for sale</td>\n",
       "      <td>55000000</td>\n",
       "      <td>7</td>\n",
       "      <td>2</td>\n",
       "      <td>14175</td>\n",
       "      <td>5 E 64th St</td>\n",
       "      <td>New York, NY 10065</td>\n",
       "      <td>5 E 64th StNew York, NY 10065</td>\n",
       "      <td>United States</td>\n",
       "      <td>New York</td>\n",
       "      <td>New York County</td>\n",
       "      <td>New York</td>\n",
       "      <td>East 64th Street</td>\n",
       "      <td>5 E 64th St, New York, NY 10065, USA</td>\n",
       "      <td>41</td>\n",
       "      <td>-74</td>\n",
       "    </tr>\n",
       "  </tbody>\n",
       "</table>\n",
       "</div>"
      ],
      "text/plain": [
       "                                         BROKERTITLE                TYPE  \\\n",
       "0        Brokered by Douglas Elliman  -111 Fifth Ave      Condo for sale   \n",
       "1                                Brokered by Serhant      Condo for sale   \n",
       "2                             Brokered by Sowae Corp      House for sale   \n",
       "3                                Brokered by COMPASS      Condo for sale   \n",
       "4  Brokered by Sotheby's International Realty - E...  Townhouse for sale   \n",
       "\n",
       "       PRICE  BEDS  BATH  PROPERTYSQFT  \\\n",
       "0     315000     2     2          1400   \n",
       "1  195000000     7    10         17545   \n",
       "2     260000     4     2          2015   \n",
       "3      69000     3     1           445   \n",
       "4   55000000     7     2         14175   \n",
       "\n",
       "                                             ADDRESS                    STATE  \\\n",
       "0                               2 E 55th St Unit 803       New York, NY 10022   \n",
       "1  Central Park Tower Penthouse-217 W 57th New Yo...       New York, NY 10019   \n",
       "2                                   620 Sinclair Ave  Staten Island, NY 10312   \n",
       "3                            2 E 55th St Unit 908W33      Manhattan, NY 10022   \n",
       "4                                        5 E 64th St       New York, NY 10065   \n",
       "\n",
       "                                        MAIN_ADDRESS  \\\n",
       "0             2 E 55th St Unit 803New York, NY 10022   \n",
       "1  Central Park Tower Penthouse-217 W 57th New Yo...   \n",
       "2            620 Sinclair AveStaten Island, NY 10312   \n",
       "3         2 E 55th St Unit 908W33Manhattan, NY 10022   \n",
       "4                      5 E 64th StNew York, NY 10065   \n",
       "\n",
       "  ADMINISTRATIVE_AREA_LEVEL_2  LOCALITY      SUBLOCALITY       STREET_NAME  \\\n",
       "0             New York County  New York        Manhattan  East 55th Street   \n",
       "1               United States  New York  New York County          New York   \n",
       "2               United States  New York  Richmond County     Staten Island   \n",
       "3               United States  New York  New York County          New York   \n",
       "4               United States  New York  New York County          New York   \n",
       "\n",
       "          LONG_NAME                                  FORMATTED_ADDRESS  \\\n",
       "0   Regis Residence  Regis Residence, 2 E 55th St #803, New York, N...   \n",
       "1  West 57th Street             217 W 57th St, New York, NY 10019, USA   \n",
       "2   Sinclair Avenue     620 Sinclair Ave, Staten Island, NY 10312, USA   \n",
       "3  East 55th Street               2 E 55th St, New York, NY 10022, USA   \n",
       "4  East 64th Street               5 E 64th St, New York, NY 10065, USA   \n",
       "\n",
       "   LATITUDE  LONGITUDE  \n",
       "0        41        -74  \n",
       "1        41        -74  \n",
       "2        41        -74  \n",
       "3        41        -74  \n",
       "4        41        -74  "
      ]
     },
     "execution_count": 86,
     "metadata": {},
     "output_type": "execute_result"
    }
   ],
   "source": [
    "df.head()"
   ]
  },
  {
   "cell_type": "code",
   "execution_count": 87,
   "metadata": {},
   "outputs": [
    {
     "name": "stdout",
     "output_type": "stream",
     "text": [
      "<class 'pandas.core.frame.DataFrame'>\n",
      "RangeIndex: 4801 entries, 0 to 4800\n",
      "Data columns (total 17 columns):\n",
      " #   Column                       Non-Null Count  Dtype  \n",
      "---  ------                       --------------  -----  \n",
      " 0   BROKERTITLE                  4801 non-null   object \n",
      " 1   TYPE                         4801 non-null   object \n",
      " 2   PRICE                        4801 non-null   int64  \n",
      " 3   BEDS                         4801 non-null   int64  \n",
      " 4   BATH                         4801 non-null   float64\n",
      " 5   PROPERTYSQFT                 4801 non-null   float64\n",
      " 6   ADDRESS                      4801 non-null   object \n",
      " 7   STATE                        4801 non-null   object \n",
      " 8   MAIN_ADDRESS                 4801 non-null   object \n",
      " 9   ADMINISTRATIVE_AREA_LEVEL_2  4801 non-null   object \n",
      " 10  LOCALITY                     4801 non-null   object \n",
      " 11  SUBLOCALITY                  4801 non-null   object \n",
      " 12  STREET_NAME                  4801 non-null   object \n",
      " 13  LONG_NAME                    4801 non-null   object \n",
      " 14  FORMATTED_ADDRESS            4801 non-null   object \n",
      " 15  LATITUDE                     4801 non-null   float64\n",
      " 16  LONGITUDE                    4801 non-null   float64\n",
      "dtypes: float64(4), int64(2), object(11)\n",
      "memory usage: 637.8+ KB\n"
     ]
    }
   ],
   "source": [
    "df.info()"
   ]
  },
  {
   "cell_type": "markdown",
   "metadata": {},
   "source": [
    "## 1.2 Data Cleaning"
   ]
  },
  {
   "cell_type": "code",
   "execution_count": 88,
   "metadata": {},
   "outputs": [
    {
     "data": {
      "text/plain": [
       "np.int64(214)"
      ]
     },
     "execution_count": 88,
     "metadata": {},
     "output_type": "execute_result"
    }
   ],
   "source": [
    "df.duplicated().sum()"
   ]
  },
  {
   "cell_type": "code",
   "execution_count": 89,
   "metadata": {},
   "outputs": [],
   "source": [
    "df.drop_duplicates(inplace=True)"
   ]
  },
  {
   "cell_type": "code",
   "execution_count": 90,
   "metadata": {},
   "outputs": [
    {
     "data": {
      "text/plain": [
       "np.int64(0)"
      ]
     },
     "execution_count": 90,
     "metadata": {},
     "output_type": "execute_result"
    }
   ],
   "source": [
    "df.duplicated().sum()"
   ]
  },
  {
   "cell_type": "markdown",
   "metadata": {},
   "source": [
    "### Check Price Distribution"
   ]
  },
  {
   "cell_type": "code",
   "execution_count": 91,
   "metadata": {},
   "outputs": [
    {
     "data": {
      "image/png": "[encoded data removed]",
      "text/plain": [
       "<Figure size 600x400 with 1 Axes>"
      ]
     },
     "metadata": {},
     "output_type": "display_data"
    }
   ],
   "source": [
    "plt.figure(figsize=(6, 4))\n",
    "\n",
    "sns.histplot(df['PRICE'], bins=40, color='black', alpha=1)\n",
    "plt.ylabel('Frequency')\n",
    "plt.xlabel('Price')\n",
    "plt.title('Distribution of prices')\n",
    "\n",
    "plt.show()"
   ]
  },
  {
   "cell_type": "markdown",
   "metadata": {},
   "source": [
    "### Remove Extreme Values"
   ]
  },
  {
   "cell_type": "code",
   "execution_count": 92,
   "metadata": {},
   "outputs": [],
   "source": [
    "# use interquartile range to remove price outliers\n",
    "upper_limit = df['PRICE'].quantile(0.94) # 6MM\n",
    "lower_limit = df['PRICE'].quantile(0.02) # 170K\n",
    "baths_limit = df['BATH'].quantile(0.99) # 8 BATHS\n",
    "beds_limit = 10"
   ]
  },
  {
   "cell_type": "code",
   "execution_count": 93,
   "metadata": {},
   "outputs": [],
   "source": [
    "outliers = df[(df['PRICE'] < lower_limit) | (df['PRICE'] > upper_limit) | (df['BATH'] > baths_limit) | (df['BEDS'] > beds_limit)]\n",
    "# drop rows containing outliers\n",
    "df_new = df.drop(outliers.index)"
   ]
  },
  {
   "cell_type": "code",
   "execution_count": 94,
   "metadata": {},
   "outputs": [
    {
     "data": {
      "image/png": "[encoded data removed]",
      "text/plain": [
       "<Figure size 600x400 with 1 Axes>"
      ]
     },
     "metadata": {},
     "output_type": "display_data"
    }
   ],
   "source": [
    "plt.figure(figsize=(6, 4))\n",
    "\n",
    "sns.histplot(df_new['PRICE'], bins=40, color='black', alpha=1)\n",
    "plt.ylabel('Frequency')\n",
    "plt.xlabel('Price')\n",
    "plt.title('Distribution of prices')\n",
    "\n",
    "plt.show()"
   ]
  },
  {
   "cell_type": "code",
   "execution_count": 95,
   "metadata": {},
   "outputs": [
    {
     "data": {
      "text/html": [
       "<div>\n",
       "<style scoped>\n",
       "    .dataframe tbody tr th:only-of-type {\n",
       "        vertical-align: middle;\n",
       "    }\n",
       "\n",
       "    .dataframe tbody tr th {\n",
       "        vertical-align: top;\n",
       "    }\n",
       "\n",
       "    .dataframe thead th {\n",
       "        text-align: right;\n",
       "    }\n",
       "</style>\n",
       "<table border=\"1\" class=\"dataframe\">\n",
       "  <thead>\n",
       "    <tr style=\"text-align: right;\">\n",
       "      <th></th>\n",
       "      <th>PRICE</th>\n",
       "      <th>BEDS</th>\n",
       "      <th>BATH</th>\n",
       "      <th>PROPERTYSQFT</th>\n",
       "      <th>LATITUDE</th>\n",
       "      <th>LONGITUDE</th>\n",
       "    </tr>\n",
       "  </thead>\n",
       "  <tbody>\n",
       "    <tr>\n",
       "      <th>count</th>\n",
       "      <td>4144</td>\n",
       "      <td>4144</td>\n",
       "      <td>4144</td>\n",
       "      <td>4144</td>\n",
       "      <td>4144</td>\n",
       "      <td>4144</td>\n",
       "    </tr>\n",
       "    <tr>\n",
       "      <th>mean</th>\n",
       "      <td>1092656</td>\n",
       "      <td>3</td>\n",
       "      <td>2</td>\n",
       "      <td>1893</td>\n",
       "      <td>41</td>\n",
       "      <td>-74</td>\n",
       "    </tr>\n",
       "    <tr>\n",
       "      <th>std</th>\n",
       "      <td>965261</td>\n",
       "      <td>2</td>\n",
       "      <td>1</td>\n",
       "      <td>1025</td>\n",
       "      <td>0</td>\n",
       "      <td>0</td>\n",
       "    </tr>\n",
       "    <tr>\n",
       "      <th>min</th>\n",
       "      <td>169999</td>\n",
       "      <td>1</td>\n",
       "      <td>0</td>\n",
       "      <td>246</td>\n",
       "      <td>40</td>\n",
       "      <td>-74</td>\n",
       "    </tr>\n",
       "    <tr>\n",
       "      <th>25%</th>\n",
       "      <td>495000</td>\n",
       "      <td>2</td>\n",
       "      <td>1</td>\n",
       "      <td>1164</td>\n",
       "      <td>41</td>\n",
       "      <td>-74</td>\n",
       "    </tr>\n",
       "    <tr>\n",
       "      <th>50%</th>\n",
       "      <td>785000</td>\n",
       "      <td>3</td>\n",
       "      <td>2</td>\n",
       "      <td>2184</td>\n",
       "      <td>41</td>\n",
       "      <td>-74</td>\n",
       "    </tr>\n",
       "    <tr>\n",
       "      <th>75%</th>\n",
       "      <td>1295000</td>\n",
       "      <td>4</td>\n",
       "      <td>2</td>\n",
       "      <td>2184</td>\n",
       "      <td>41</td>\n",
       "      <td>-74</td>\n",
       "    </tr>\n",
       "    <tr>\n",
       "      <th>max</th>\n",
       "      <td>5799000</td>\n",
       "      <td>10</td>\n",
       "      <td>8</td>\n",
       "      <td>21000</td>\n",
       "      <td>41</td>\n",
       "      <td>-74</td>\n",
       "    </tr>\n",
       "  </tbody>\n",
       "</table>\n",
       "</div>"
      ],
      "text/plain": [
       "        PRICE  BEDS  BATH  PROPERTYSQFT  LATITUDE  LONGITUDE\n",
       "count    4144  4144  4144          4144      4144       4144\n",
       "mean  1092656     3     2          1893        41        -74\n",
       "std    965261     2     1          1025         0          0\n",
       "min    169999     1     0           246        40        -74\n",
       "25%    495000     2     1          1164        41        -74\n",
       "50%    785000     3     2          2184        41        -74\n",
       "75%   1295000     4     2          2184        41        -74\n",
       "max   5799000    10     8         21000        41        -74"
      ]
     },
     "execution_count": 95,
     "metadata": {},
     "output_type": "execute_result"
    }
   ],
   "source": [
    "df_new.describe()"
   ]
  },
  {
   "cell_type": "code",
   "execution_count": 96,
   "metadata": {},
   "outputs": [
    {
     "data": {
      "text/plain": [
       "BEDS\n",
       "3     1305\n",
       "2      928\n",
       "1      737\n",
       "4      480\n",
       "5      282\n",
       "6      224\n",
       "7       76\n",
       "8       65\n",
       "9       35\n",
       "10      12\n",
       "Name: count, dtype: int64"
      ]
     },
     "execution_count": 96,
     "metadata": {},
     "output_type": "execute_result"
    }
   ],
   "source": [
    "df_new['BEDS'].value_counts()"
   ]
  },
  {
   "cell_type": "code",
   "execution_count": 97,
   "metadata": {},
   "outputs": [
    {
     "data": {
      "text/plain": [
       "SUBLOCALITY\n",
       "New York            871\n",
       "Kings County        637\n",
       "Queens County       631\n",
       "Queens              510\n",
       "Richmond County     450\n",
       "Brooklyn            428\n",
       "Bronx County        271\n",
       "The Bronx           131\n",
       "New York County     125\n",
       "Staten Island        55\n",
       "Manhattan            18\n",
       "Flushing              4\n",
       "Coney Island          3\n",
       "Riverdale             3\n",
       "East Bronx            1\n",
       "Jackson Heights       1\n",
       "Brooklyn Heights      1\n",
       "Rego Park             1\n",
       "Fort Hamilton         1\n",
       "Dumbo                 1\n",
       "Snyder Avenue         1\n",
       "Name: count, dtype: int64"
      ]
     },
     "execution_count": 97,
     "metadata": {},
     "output_type": "execute_result"
    }
   ],
   "source": [
    "df_new.SUBLOCALITY.value_counts()"
   ]
  },
  {
   "cell_type": "code",
   "execution_count": 98,
   "metadata": {},
   "outputs": [],
   "source": [
    "# Remove rows where the values in 'col1' appear less than 10 times\n",
    "df_new = df_new.groupby('SUBLOCALITY').filter(lambda x: len(x) >= 10)"
   ]
  },
  {
   "cell_type": "code",
   "execution_count": 99,
   "metadata": {},
   "outputs": [
    {
     "data": {
      "text/plain": [
       "SUBLOCALITY\n",
       "New York           871\n",
       "Kings County       637\n",
       "Queens County      631\n",
       "Queens             510\n",
       "Richmond County    450\n",
       "Brooklyn           428\n",
       "Bronx County       271\n",
       "The Bronx          131\n",
       "New York County    125\n",
       "Staten Island       55\n",
       "Manhattan           18\n",
       "Name: count, dtype: int64"
      ]
     },
     "execution_count": 99,
     "metadata": {},
     "output_type": "execute_result"
    }
   ],
   "source": [
    "df_new.SUBLOCALITY.value_counts()"
   ]
  },
  {
   "cell_type": "code",
   "execution_count": 100,
   "metadata": {},
   "outputs": [
    {
     "name": "stdout",
     "output_type": "stream",
     "text": [
      "Skewness for PRICE: 2.1559406139852455\n",
      "Skewness for BEDS: 1.1737226189073253\n",
      "Skewness for BATH: 1.5354520910086464\n",
      "Skewness for PROPERTYSQFT: 3.9744693726345712\n",
      "Skewness for LATITUDE: -0.048441738386658474\n",
      "Skewness for LONGITUDE: -0.4301587795435386\n"
     ]
    }
   ],
   "source": [
    "# Calculate skewness for each column\n",
    "for column in df.select_dtypes(include=[np.number]).columns:\n",
    "    skewness_per_column = df_new[column].skew()\n",
    "    print(f\"Skewness for {column}: {skewness_per_column}\")"
   ]
  },
  {
   "cell_type": "markdown",
   "metadata": {},
   "source": [
    "## 1.3 Check Features Correlation"
   ]
  },
  {
   "cell_type": "code",
   "execution_count": 101,
   "metadata": {},
   "outputs": [
    {
     "data": {
      "image/png": "[encoded data removed]",
      "text/plain": [
       "<Figure size 640x480 with 2 Axes>"
      ]
     },
     "metadata": {},
     "output_type": "display_data"
    }
   ],
   "source": [
    "correlationn=pd.DataFrame()\n",
    "for column in df_new.select_dtypes(include=[np.number]).columns:\n",
    "    correlationn[column] = df_new[column]\n",
    "relations=correlationn.corr()\n",
    "sns.heatmap(relations, annot=True, cmap='coolwarm')\n",
    "plt.show()\n"
   ]
  },
  {
   "cell_type": "markdown",
   "metadata": {},
   "source": [
    "I will use the BED, BATH, PROPERTYSQFT these 3 features due to high correlationn"
   ]
  },
  {
   "cell_type": "markdown",
   "metadata": {},
   "source": [
    "# 2. Model Training"
   ]
  },
  {
   "cell_type": "code",
   "execution_count": 102,
   "metadata": {},
   "outputs": [],
   "source": [
    "%matplotlib inline\n",
    "from sklearn.model_selection import train_test_split\n",
    "from sklearn.feature_extraction import DictVectorizer\n",
    "from sklearn.ensemble import RandomForestRegressor"
   ]
  },
  {
   "cell_type": "code",
   "execution_count": 103,
   "metadata": {},
   "outputs": [],
   "source": [
    "selected_cols = ['BEDS', 'BATH', 'PROPERTYSQFT','SUBLOCALITY','PRICE']\n",
    "subset_df = df_new[selected_cols]"
   ]
  },
  {
   "cell_type": "code",
   "execution_count": 104,
   "metadata": {},
   "outputs": [
    {
     "data": {
      "text/html": [
       "<div>\n",
       "<style scoped>\n",
       "    .dataframe tbody tr th:only-of-type {\n",
       "        vertical-align: middle;\n",
       "    }\n",
       "\n",
       "    .dataframe tbody tr th {\n",
       "        vertical-align: top;\n",
       "    }\n",
       "\n",
       "    .dataframe thead th {\n",
       "        text-align: right;\n",
       "    }\n",
       "</style>\n",
       "<table border=\"1\" class=\"dataframe\">\n",
       "  <thead>\n",
       "    <tr style=\"text-align: right;\">\n",
       "      <th></th>\n",
       "      <th>BEDS</th>\n",
       "      <th>BATH</th>\n",
       "      <th>PROPERTYSQFT</th>\n",
       "      <th>SUBLOCALITY</th>\n",
       "      <th>PRICE</th>\n",
       "    </tr>\n",
       "  </thead>\n",
       "  <tbody>\n",
       "    <tr>\n",
       "      <th>0</th>\n",
       "      <td>2</td>\n",
       "      <td>2</td>\n",
       "      <td>1400</td>\n",
       "      <td>Manhattan</td>\n",
       "      <td>315000</td>\n",
       "    </tr>\n",
       "    <tr>\n",
       "      <th>2</th>\n",
       "      <td>4</td>\n",
       "      <td>2</td>\n",
       "      <td>2015</td>\n",
       "      <td>Richmond County</td>\n",
       "      <td>260000</td>\n",
       "    </tr>\n",
       "    <tr>\n",
       "      <th>5</th>\n",
       "      <td>5</td>\n",
       "      <td>2</td>\n",
       "      <td>4004</td>\n",
       "      <td>Kings County</td>\n",
       "      <td>690000</td>\n",
       "    </tr>\n",
       "    <tr>\n",
       "      <th>6</th>\n",
       "      <td>2</td>\n",
       "      <td>2</td>\n",
       "      <td>2184</td>\n",
       "      <td>New York</td>\n",
       "      <td>899500</td>\n",
       "    </tr>\n",
       "    <tr>\n",
       "      <th>9</th>\n",
       "      <td>2</td>\n",
       "      <td>1</td>\n",
       "      <td>978</td>\n",
       "      <td>Brooklyn</td>\n",
       "      <td>440000</td>\n",
       "    </tr>\n",
       "  </tbody>\n",
       "</table>\n",
       "</div>"
      ],
      "text/plain": [
       "   BEDS  BATH  PROPERTYSQFT      SUBLOCALITY   PRICE\n",
       "0     2     2          1400        Manhattan  315000\n",
       "2     4     2          2015  Richmond County  260000\n",
       "5     5     2          4004     Kings County  690000\n",
       "6     2     2          2184         New York  899500\n",
       "9     2     1           978         Brooklyn  440000"
      ]
     },
     "execution_count": 104,
     "metadata": {},
     "output_type": "execute_result"
    }
   ],
   "source": [
    "subset_df.head()"
   ]
  },
  {
   "cell_type": "code",
   "execution_count": 105,
   "metadata": {},
   "outputs": [],
   "source": [
    "def train_val_test_split(df, target, train_size, val_size, test_size, random_state):\n",
    "    \n",
    "    df_full_train, df_test = train_test_split(df, test_size=test_size, random_state=random_state)\n",
    "    val_portion = val_size / (train_size + val_size)\n",
    "    df_train, df_val = train_test_split(df_full_train, test_size=val_portion, random_state=random_state)\n",
    "\n",
    "    df_full_train = df_full_train.reset_index(drop=True)\n",
    "    df_train = df_train.reset_index(drop=True)\n",
    "    df_val = df_val.reset_index(drop=True)\n",
    "    df_test = df_test.reset_index(drop=True)\n",
    "\n",
    "    y_full_train = df_full_train[target].values\n",
    "    y_train = df_train[target].values\n",
    "    y_val = df_val[target].values\n",
    "    y_test = df_test[target].values\n",
    "\n",
    "    del df_full_train[target]\n",
    "    del df_train[target]\n",
    "    del df_val[target]\n",
    "    del df_test[target]\n",
    "\n",
    "    return df_full_train, df_train, df_test, df_val, y_full_train, y_train, y_val, y_test"
   ]
  },
  {
   "cell_type": "code",
   "execution_count": 106,
   "metadata": {},
   "outputs": [],
   "source": [
    "X_full_train, X_train, X_test, X_val, y_full_train, y_train, y_val, y_test = \\\n",
    "    train_val_test_split(df=subset_df, target='PRICE', train_size=0.8, val_size=0.1, test_size=0.1, random_state=1)"
   ]
  },
  {
   "cell_type": "code",
   "execution_count": 107,
   "metadata": {},
   "outputs": [],
   "source": [
    "def train_rf(df_train, y_train, random_state, n_estimators):\n",
    "    dicts = df_train.to_dict(orient='records')\n",
    "\n",
    "    dv = DictVectorizer(sparse=True)\n",
    "    X_train = dv.fit_transform(dicts)\n",
    "\n",
    "    model = RandomForestRegressor(n_estimators=n_estimators, random_state=random_state, n_jobs=-1)\n",
    "    model.fit(X_train, y_train)\n",
    "    \n",
    "    return dv, model\n",
    "\n",
    "def predict(df, dv, model):\n",
    "    dicts = df.to_dict(orient='records')\n",
    "\n",
    "    X = dv.transform(dicts)\n",
    "    y_pred = model.predict(X)\n",
    "\n",
    "    return y_pred\n",
    "\n",
    "def rmse(y, y_pred):\n",
    "    error = y_pred - y\n",
    "    mse = (error ** 2).mean()\n",
    "    return np.sqrt(mse)"
   ]
  },
  {
   "cell_type": "code",
   "execution_count": 108,
   "metadata": {},
   "outputs": [
    {
     "data": {
      "text/plain": [
       "np.float64(606596.815)"
      ]
     },
     "execution_count": 108,
     "metadata": {},
     "output_type": "execute_result"
    }
   ],
   "source": [
    "dv, rf_model = train_rf(df_train=X_train, y_train=y_train, random_state=1, n_estimators=10)\n",
    "y_pred = predict(df=X_test, dv=dv, model=rf_model)\n",
    "round(rmse(y_test, y_pred),3)"
   ]
  },
  {
   "cell_type": "code",
   "execution_count": 109,
   "metadata": {},
   "outputs": [
    {
     "name": "stdout",
     "output_type": "stream",
     "text": [
      "     y_pred   y_test\n",
      "0    858679   839000\n",
      "1    825700  1080000\n",
      "2    253085   184888\n",
      "3   1892083  1900000\n",
      "4    884297   599000\n",
      "..      ...      ...\n",
      "408 1025033   325000\n",
      "409  696862   858000\n",
      "410  232000   235000\n",
      "411 2044761  3500000\n",
      "412 1063400  1300000\n",
      "\n",
      "[413 rows x 2 columns]\n"
     ]
    }
   ],
   "source": [
    "y_pred,y_val\n",
    "compare = pd.DataFrame({'y_pred': y_pred, 'y_test': y_test})\n",
    "pd.set_option('display.float_format', '{:.0f}'.format)\n",
    "# Display the DataFrame\n",
    "print(compare)"
   ]
  },
  {
   "cell_type": "markdown",
   "metadata": {},
   "source": [
    "## 2.1 Performance Tuning"
   ]
  },
  {
   "cell_type": "code",
   "execution_count": 110,
   "metadata": {},
   "outputs": [],
   "source": [
    "def train_rf2(df_train, y_train, n_estimators, depth):\n",
    "    dicts = df_train.to_dict(orient='records')\n",
    "\n",
    "    dv = DictVectorizer(sparse=True)\n",
    "    X_train = dv.fit_transform(dicts)\n",
    "\n",
    "    model = RandomForestRegressor(max_depth=depth, n_estimators=n_estimators, random_state=1, n_jobs=-1)\n",
    "    model.fit(X_train, y_train)\n",
    "    \n",
    "    return dv, model"
   ]
  },
  {
   "cell_type": "code",
   "execution_count": 111,
   "metadata": {},
   "outputs": [
    {
     "name": "stdout",
     "output_type": "stream",
     "text": [
      "depth: 10\n",
      "depth: 15\n",
      "depth: 20\n",
      "depth: 25\n"
     ]
    }
   ],
   "source": [
    "all_rmse = {}\n",
    "for depth in [10, 15, 20, 25]:\n",
    "    print('depth: %s' % depth)\n",
    "    rmse_vals = []\n",
    "    for i in range(10, 201, 10):\n",
    "        dv, rf_model = train_rf2(df_train=X_train, y_train=y_train, n_estimators=i, depth=depth)\n",
    "        y_pred = predict(df=X_val, dv=dv, model=rf_model)\n",
    "        rmse_val = round(rmse(y_val, y_pred),3)\n",
    "        # print('%s -> %.3f' % (i, rmse_val))\n",
    "        rmse_vals.append(rmse_val)\n",
    "    all_rmse[depth] = np.mean(rmse_vals)"
   ]
  },
  {
   "cell_type": "code",
   "execution_count": 112,
   "metadata": {},
   "outputs": [
    {
     "data": {
      "text/plain": [
       "{10: np.float64(593468.5112000001),\n",
       " 15: np.float64(609114.1866499999),\n",
       " 20: np.float64(613882.1876000001),\n",
       " 25: np.float64(614778.13155)}"
      ]
     },
     "execution_count": 112,
     "metadata": {},
     "output_type": "execute_result"
    }
   ],
   "source": [
    "all_rmse"
   ]
  },
  {
   "cell_type": "markdown",
   "metadata": {},
   "source": [
    "depth use 20 "
   ]
  },
  {
   "cell_type": "code",
   "execution_count": 113,
   "metadata": {},
   "outputs": [
    {
     "name": "stdout",
     "output_type": "stream",
     "text": [
      "10 -> 588790.700\n",
      "20 -> 588302.253\n",
      "30 -> 590587.596\n",
      "40 -> 591742.294\n",
      "50 -> 590313.991\n",
      "60 -> 590510.692\n",
      "70 -> 592584.816\n",
      "80 -> 592307.824\n",
      "90 -> 592670.521\n",
      "100 -> 593681.605\n",
      "110 -> 593208.097\n",
      "120 -> 595173.894\n",
      "130 -> 595197.268\n",
      "140 -> 595439.356\n",
      "150 -> 595659.215\n",
      "160 -> 595573.161\n",
      "170 -> 596937.630\n",
      "180 -> 596606.501\n",
      "190 -> 596945.331\n",
      "200 -> 597137.479\n"
     ]
    }
   ],
   "source": [
    "all_rmse_dep20 = {}\n",
    "\n",
    "for i in range(10, 201, 10):\n",
    "    dv, rf_model = train_rf2(df_train=X_train, y_train=y_train, n_estimators=i, depth=10)\n",
    "    y_pred = predict(df=X_val, dv=dv, model=rf_model)\n",
    "    rmse_val = round(rmse(y_val, y_pred),3)\n",
    "    print('%s -> %.3f' % (i, rmse_val))\n",
    "    all_rmse_dep20[i] = rmse_val"
   ]
  },
  {
   "cell_type": "markdown",
   "metadata": {},
   "source": [
    "n_estimator use 10"
   ]
  },
  {
   "cell_type": "markdown",
   "metadata": {},
   "source": [
    "## 2.2 Feature Importance"
   ]
  },
  {
   "cell_type": "code",
   "execution_count": 114,
   "metadata": {},
   "outputs": [],
   "source": [
    "dv, rf_model = train_rf2(df_train=X_train, y_train=y_train, n_estimators=10, depth=10)"
   ]
  },
  {
   "cell_type": "code",
   "execution_count": 115,
   "metadata": {},
   "outputs": [
    {
     "name": "stdout",
     "output_type": "stream",
     "text": [
      "Feature 0: 0.3270\n",
      "Feature 1: 0.0603\n",
      "Feature 2: 0.3230\n",
      "Feature 3: 0.0047\n"
     ]
    }
   ],
   "source": [
    "# Get feature importances\n",
    "importances = rf_model.feature_importances_\n",
    "\n",
    "# Print feature importances\n",
    "feature_names = [f\"Feature {i}\" for i in range(X_train.shape[1])]\n",
    "for feature, importance in zip(feature_names, importances):\n",
    "    print(f\"{feature}: {importance:.4f}\")"
   ]
  },
  {
   "cell_type": "markdown",
   "metadata": {},
   "source": [
    "## 3. Export the model"
   ]
  },
  {
   "cell_type": "code",
   "execution_count": 116,
   "metadata": {},
   "outputs": [],
   "source": [
    "import pickle"
   ]
  },
  {
   "cell_type": "code",
   "execution_count": 117,
   "metadata": {},
   "outputs": [],
   "source": [
    "# Save the model to a file\n",
    "with open('model.bin', 'wb') as f:\n",
    "    pickle.dump(rf_model, f)"
   ]
  },
  {
   "cell_type": "code",
   "execution_count": 118,
   "metadata": {},
   "outputs": [],
   "source": [
    "# To load the model\n",
    "with open('model.bin', 'rb') as f:\n",
    "    loaded_model = pickle.load(f)"
   ]
  },
  {
   "cell_type": "code",
   "execution_count": 119,
   "metadata": {},
   "outputs": [
    {
     "data": {
      "text/html": [
       "<div>\n",
       "<style scoped>\n",
       "    .dataframe tbody tr th:only-of-type {\n",
       "        vertical-align: middle;\n",
       "    }\n",
       "\n",
       "    .dataframe tbody tr th {\n",
       "        vertical-align: top;\n",
       "    }\n",
       "\n",
       "    .dataframe thead th {\n",
       "        text-align: right;\n",
       "    }\n",
       "</style>\n",
       "<table border=\"1\" class=\"dataframe\">\n",
       "  <thead>\n",
       "    <tr style=\"text-align: right;\">\n",
       "      <th></th>\n",
       "      <th>BEDS</th>\n",
       "      <th>BATH</th>\n",
       "      <th>PROPERTYSQFT</th>\n",
       "      <th>SUBLOCALITY</th>\n",
       "    </tr>\n",
       "  </thead>\n",
       "  <tbody>\n",
       "    <tr>\n",
       "      <th>0</th>\n",
       "      <td>4</td>\n",
       "      <td>2</td>\n",
       "      <td>2184</td>\n",
       "      <td>Queens County</td>\n",
       "    </tr>\n",
       "    <tr>\n",
       "      <th>1</th>\n",
       "      <td>5</td>\n",
       "      <td>2</td>\n",
       "      <td>2570</td>\n",
       "      <td>Bronx County</td>\n",
       "    </tr>\n",
       "    <tr>\n",
       "      <th>2</th>\n",
       "      <td>3</td>\n",
       "      <td>1</td>\n",
       "      <td>500</td>\n",
       "      <td>Queens</td>\n",
       "    </tr>\n",
       "    <tr>\n",
       "      <th>3</th>\n",
       "      <td>2</td>\n",
       "      <td>2</td>\n",
       "      <td>1035</td>\n",
       "      <td>New York</td>\n",
       "    </tr>\n",
       "    <tr>\n",
       "      <th>4</th>\n",
       "      <td>3</td>\n",
       "      <td>2</td>\n",
       "      <td>2184</td>\n",
       "      <td>Queens County</td>\n",
       "    </tr>\n",
       "  </tbody>\n",
       "</table>\n",
       "</div>"
      ],
      "text/plain": [
       "   BEDS  BATH  PROPERTYSQFT    SUBLOCALITY\n",
       "0     4     2          2184  Queens County\n",
       "1     5     2          2570   Bronx County\n",
       "2     3     1           500         Queens\n",
       "3     2     2          1035       New York\n",
       "4     3     2          2184  Queens County"
      ]
     },
     "execution_count": 119,
     "metadata": {},
     "output_type": "execute_result"
    }
   ],
   "source": [
    "X_test.head()"
   ]
  },
  {
   "cell_type": "code",
   "execution_count": 120,
   "metadata": {},
   "outputs": [
    {
     "data": {
      "text/plain": [
       "array([874592.91561928])"
      ]
     },
     "execution_count": 120,
     "metadata": {},
     "output_type": "execute_result"
    }
   ],
   "source": [
    "# Predict Price\n",
    "test_json = {\"BEDS\": 4, \"BATH\": 2, \"PROPERTYSQFT\": 2184, \"SUBLOCALITY\": \"Queens County\"}\n",
    "X = dv.transform([test_json])\n",
    "loaded_model.predict(X)"
   ]
  },
  {
   "cell_type": "code",
   "execution_count": 121,
   "metadata": {},
   "outputs": [
    {
     "data": {
      "text/plain": [
       "np.int64(839000)"
      ]
     },
     "execution_count": 121,
     "metadata": {},
     "output_type": "execute_result"
    }
   ],
   "source": [
    "# Actual Price\n",
    "y_test[0]"
   ]
  }
 ],
 "metadata": {
  "kernelspec": {
   "display_name": "Python 3",
   "language": "python",
   "name": "python3"
  },
  "language_info": {
   "codemirror_mode": {
    "name": "ipython",
    "version": 3
   },
   "file_extension": ".py",
   "mimetype": "text/x-python",
   "name": "python",
   "nbconvert_exporter": "python",
   "pygments_lexer": "ipython3",
   "version": "3.12.1"
  }
 },
 "nbformat": 4,
 "nbformat_minor": 2
}
